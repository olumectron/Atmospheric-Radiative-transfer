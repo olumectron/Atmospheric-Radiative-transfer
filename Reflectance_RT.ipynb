{
  "cells": [
    {
      "cell_type": "markdown",
      "id": "ad95205d",
      "metadata": {
        "id": "ad95205d"
      },
      "source": [
        "# Reflectance at TOA"
      ]
    },
    {
      "cell_type": "code",
      "execution_count": null,
      "id": "26eab783",
      "metadata": {
        "id": "26eab783"
      },
      "outputs": [],
      "source": [
        "import time\n",
        "import numpy as np\n",
        "import matplotlib.pyplot as plt"
      ]
    },
    {
      "cell_type": "code",
      "execution_count": null,
      "id": "f2e0fc18",
      "metadata": {
        "id": "f2e0fc18"
      },
      "outputs": [],
      "source": [
        "def legendre_polynomial(x, n): # Legendre polynomial of degree n\n",
        "\n",
        "    ndim = n+1\n",
        "    pn = np.zeros(ndim)\n",
        "    if n == 0:\n",
        "        pn[0] = 1.0\n",
        "    elif n == 1:\n",
        "        pn[0] = 1.0\n",
        "        pn[1] = x\n",
        "    else:\n",
        "        pn[0] = 1.0\n",
        "        pn[1] = x\n",
        "        for r in range(2, ndim):\n",
        "            pn[r] = (2.0*r - 1.0)/r*x*pn[r-1] - (r - 1.0)/r*pn[r-2]\n",
        "    return pn"
      ]
    },
    {
      "cell_type": "code",
      "execution_count": null,
      "id": "733174ea",
      "metadata": {
        "id": "733174ea"
      },
      "outputs": [],
      "source": [
        "def reflectance(mu, mu0, raz, w, tau0, xk, s_alb, F0):\n",
        "\n",
        "#   Parameters:\n",
        "    ndim = len(xk)\n",
        "#\n",
        "    vn = mu*mu0 + (np.sqrt(1.0 - mu*mu))*(np.sqrt(1.0 - mu0*mu0))*np.cos(raz)\n",
        "    p = np.zeros_like(vn)\n",
        "    for ind, val in enumerate(vn): #to highlight index and values\n",
        "        pn = legendre_polynomial(val, ndim-1)\n",
        "        p[ind] = np.dot(xk, pn)\n",
        "#\n",
        "    mup = -mu\n",
        "    E0 = mu0*F0\n",
        "\n",
        "    Rup = (mu0*F0*s_alb*np.exp(-tau0/mup - tau0/mu0) + 0.25*mu0*F0*p*w*mu0/(mu0 + mup)*(1.0 - np.exp(-tau0/mup - tau0/mu0)))/E0\n",
        "#\n",
        "    return Rup"
      ]
    },
    {
      "cell_type": "code",
      "source": [
        "def reflectance(mu0, mu, raz, w, tau0, xk, s_alb, F0):\n",
        "\n",
        "#   Parameters:\n",
        "    ndim = len(xk)\n",
        "#\n",
        "    mus = -mu0\n",
        "    vn = mu*mus + (np.sqrt(1.0 - mu*mu))*(np.sqrt(1.0 - mus*mus))*np.cos(raz)\n",
        "    p = np.zeros_like(vn)\n",
        "    for ind, val in enumerate(vn): #to highlight index and values\n",
        "        pn = legendre_polynomial(val, ndim-1)\n",
        "        p[ind] = np.dot(xk, pn)\n",
        "#\n",
        "    mup = -mu\n",
        "    E0 = mu0*F0\n",
        "\n",
        "    Rup = (mus*F0*s_alb*np.exp(-tau0/mup - tau0/mus) + 0.25*mus*F0*p*w*mus/(mus + mup)*(1.0 - np.exp(-tau0/mup - tau0/mus)))/E0\n",
        "#\n",
        "    return Rup"
      ],
      "metadata": {
        "id": "DkUUqo4JQ8sp"
      },
      "id": "DkUUqo4JQ8sp",
      "execution_count": null,
      "outputs": []
    },
    {
      "cell_type": "code",
      "source": [
        "tau0 = 0.3\n",
        "w = 0.45 # @ 440 nm\n",
        "s_alb = 0\n",
        "F0 = 1\n",
        "miu = 0.01745241\n",
        "miu0 = 1.0\n",
        "az_sol = -0.5*np.pi\n",
        "az_veiw = 0.5*np.pi\n",
        "miu0_pos = np.rint(miu0*90).astype(int)\n",
        "miu_pos = np.rint(miu*90).astype(int)\n",
        "raz = az_veiw - az_sol\n",
        "xk = np.array([1.0, 0.0, 0.5])\n",
        "mu0 = np.linspace(0.001, 1.0, 91)\n",
        "mu = -np.linspace(0.001, 1.0 , 91)\n",
        "raz = np.linspace(0.0, raz, 1801)\n",
        "nmu0 = len(mu0)\n",
        "nmu = len(mu)\n",
        "naz = len(raz)\n",
        "Rup = np.zeros((nmu0, nmu, naz))\n",
        "\n",
        "for imu0 in range(len(mu0)):\n",
        "    for imu in range(len(mu)):\n",
        "        Rup[imu0, imu, :] = reflectance(mu0[imu0], mu[imu], raz, w, tau0, xk, s_alb, F0)\n",
        "\n",
        "# Computation of Reflectance\n",
        "#print(f' The reflectance(for mu = {miu} and mu0 = {miu0}) at TOA  = {Rup[miu0_pos, miu_pos,:].mean()}')\n",
        "print(f' The reflectance(for mu = {miu} and mu0 = {miu0}) at TOA  = {Rup[:, 89,:].mean()}')"
      ],
      "metadata": {
        "colab": {
          "base_uri": "https://localhost:8080/"
        },
        "id": "AFNTbOE0RvIg",
        "outputId": "995d687a-2c10-4046-9b7c-80311c37e430"
      },
      "id": "AFNTbOE0RvIg",
      "execution_count": null,
      "outputs": [
        {
          "output_type": "stream",
          "name": "stdout",
          "text": [
            " The reflectance(for mu = 0.01745241 and mu0 = 1.0) at TOA  = -0.06872771447824189\n"
          ]
        }
      ]
    },
    {
      "cell_type": "code",
      "source": [
        "print(f' The reflectance(for mu = {miu} and mu0 = {miu0}) at TOA  = {Rup[:, 45, :].mean()}')"
      ],
      "metadata": {
        "colab": {
          "base_uri": "https://localhost:8080/"
        },
        "id": "IIm-VNosceoB",
        "outputId": "961cc368-859b-4897-dbc3-0fa5ac5ee23b"
      },
      "id": "IIm-VNosceoB",
      "execution_count": null,
      "outputs": [
        {
          "output_type": "stream",
          "name": "stdout",
          "text": [
            " The reflectance(for mu = 0.01745241 and mu0 = 1.0) at TOA  = -4.500449160614307e+127\n"
          ]
        }
      ]
    },
    {
      "cell_type": "code",
      "execution_count": null,
      "id": "85a04b66",
      "metadata": {
        "colab": {
          "base_uri": "https://localhost:8080/"
        },
        "id": "85a04b66",
        "outputId": "24620fbb-92e5-44eb-83e6-97421f1f7de6"
      },
      "outputs": [
        {
          "output_type": "stream",
          "name": "stdout",
          "text": [
            " The reflectance(for mu = 1.0 and mu0 = 0.5) at TOA  = 0.031037198406487096\n"
          ]
        }
      ],
      "source": [
        "tau0 = 0.2\n",
        "w = 0.88 # @ 440 nm\n",
        "s_alb = 0\n",
        "F0 = 1\n",
        "miu = 1.0\n",
        "miu0 = 0.5\n",
        "az_sol = -0.5*np.pi\n",
        "az_veiw = 0.5*np.pi\n",
        "miu0_pos = np.rint(miu0*90).astype(int)\n",
        "miu_pos = np.rint(miu*90).astype(int)\n",
        "raz = az_veiw - az_sol\n",
        "xk = np.array([1.0, 0.0, 0.5])\n",
        "mu0 = np.linspace(0.001, 1.0, 91)\n",
        "mu = -np.linspace(0.001, 1.0 , 91)\n",
        "raz = np.linspace(0.0, raz, 1801)\n",
        "nmu0 = len(mu0)\n",
        "nmu = len(mu)\n",
        "naz = len(raz)\n",
        "Rup = np.zeros((nmu0, nmu, naz))\n",
        "\n",
        "for imu0 in range(len(mu0)):\n",
        "    for imu in range(len(mu)):\n",
        "        Rup[imu0, imu, :] = reflectance(mu[imu], mu0[imu0], raz, w, tau0, xk, s_alb, F0)\n",
        "\n",
        "# Computation of Reflectance\n",
        "print(f' The reflectance(for mu = {miu} and mu0 = {miu0}) at TOA  = {Rup[miu0_pos, miu_pos,:].mean()}')"
      ]
    },
    {
      "cell_type": "code",
      "execution_count": null,
      "id": "fe2d156b",
      "metadata": {
        "scrolled": true,
        "id": "fe2d156b",
        "outputId": "d73afc2d-4ba5-4496-bf3d-395eddfa2ca3"
      },
      "outputs": [
        {
          "data": {
            "image/png": "[encoded data removed]",
            "text/plain": [
              "<Figure size 720x432 with 1 Axes>"
            ]
          },
          "metadata": {
            "needs_background": "light"
          },
          "output_type": "display_data"
        }
      ],
      "source": [
        "#************PLOT*******************\n",
        "fig,ax=plt.subplots(figsize=(10,6))\n",
        "Rs_up = np.mean(Rup,axis=(1,2))\n",
        "Rv_up = np.mean(Rup,axis=(0,2))\n",
        "view_angle =np.linspace(0,1,91)\n",
        "ax.plot(view_angle,Rv_up,\"-\",label=\"Cos(VZA)\",color=\"red\")\n",
        "ax.plot(view_angle,Rs_up,\"-\",label=\"Cos(SZA)\",color=\"green\")\n",
        "ax.set_xlabel(r'Cosine of zenith angle Cos[$\\theta$]',fontsize='large')\n",
        "ax.set_ylabel('Reflectance ',fontsize='large')\n",
        "ax.set_xlim(0.0,1)\n",
        "plt.legend()\n",
        "ax.grid(True)\n",
        "ax.set_title('Reflectance as a function of zenith angles',fontsize='large')\n",
        "plt.show()"
      ]
    },
    {
      "cell_type": "code",
      "execution_count": null,
      "id": "b7ca6de2",
      "metadata": {
        "id": "b7ca6de2",
        "outputId": "0fa83fd1-f15d-446c-a48b-ec23da759ba0"
      },
      "outputs": [
        {
          "data": {
            "text/plain": [
              "Text(0.5, 1.0, 'Reflectance as a function of cosine (zenith angles)')"
            ]
          },
          "execution_count": 40,
          "metadata": {},
          "output_type": "execute_result"
        },
        {
          "data": {
            "image/png": "[encoded data removed]",
            "text/plain": [
              "<Figure size 576x576 with 2 Axes>"
            ]
          },
          "metadata": {
            "needs_background": "light"
          },
          "output_type": "display_data"
        }
      ],
      "source": [
        "fig,ax=plt.subplots(figsize = (8,8))\n",
        "\n",
        "x = np.linspace(0,1,91)\n",
        "y = np.linspace(0,1,91)\n",
        "t = np.mean(Rup,axis=2)\n",
        "\n",
        "c=ax.contourf(x,y,t,levels=np.linspace(0,t.max(),11))\n",
        "fig.colorbar(c,ax=ax,label='% Reflectance [R]')\n",
        "ax.set_xlabel(r'Cosine of Solar zenith angle Cos[$\\theta$o]',fontsize='large')\n",
        "ax.set_ylabel(r'Cosine of View zenith angle Cos[$\\theta$v]',fontsize='large')\n",
        "ax.set_title('Reflectance as a function of cosine (zenith angles)',fontsize='large')"
      ]
    },
    {
      "cell_type": "code",
      "execution_count": null,
      "id": "4b242714",
      "metadata": {
        "id": "4b242714"
      },
      "outputs": [],
      "source": []
    }
  ],
  "metadata": {
    "kernelspec": {
      "display_name": "Python 3 (ipykernel)",
      "language": "python",
      "name": "python3"
    },
    "language_info": {
      "codemirror_mode": {
        "name": "ipython",
        "version": 3
      },
      "file_extension": ".py",
      "mimetype": "text/x-python",
      "name": "python",
      "nbconvert_exporter": "python",
      "pygments_lexer": "ipython3",
      "version": "3.7.3"
    },
    "colab": {
      "provenance": []
    }
  },
  "nbformat": 4,
  "nbformat_minor": 5
}